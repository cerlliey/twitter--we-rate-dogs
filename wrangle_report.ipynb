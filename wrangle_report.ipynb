{
 "cells": [
  {
   "cell_type": "markdown",
   "id": "6c12f490",
   "metadata": {},
   "source": [
    "### Data Wrangling Explanations"
   ]
  },
  {
   "cell_type": "markdown",
   "id": "75c81f0a",
   "metadata": {},
   "source": [
    "#### The following issues were identified during the data wrangling process and was cleaned.\n",
    "*Quality issues*\n",
    "* Tweet Archive dataframe *\n",
    "- Unoriginal tweets are included\n",
    "- Redundant columns in the archieve dataframe\n",
    "- Decimals ratings and tweet more than 1 ratings mentioned were truncated wrongly\n",
    "- The source column is not properly formatted\n",
    "- Incorrect datatype for tweet, timestamp colums\n",
    "- Inconsistent dog names\n",
    "- Incorrect entries at the expanded URL column\n"
   ]
  },
  {
   "cell_type": "markdown",
   "id": "b55a4223",
   "metadata": {},
   "source": [
    "#### Tweet Json dataframe\n",
    "* Retweet data\n",
    "* Incorrect datatype for tweet"
   ]
  },
  {
   "cell_type": "markdown",
   "id": "b8bf0912",
   "metadata": {},
   "source": [
    "#### Image definitions dataframe\n",
    "* Incorrect data type for tweet\n",
    "#### Tidiness issues\n",
    "* The dog categorizations can be merged into a single column\n",
    "* Merge the 3 dataframes for proper analysis"
   ]
  },
  {
   "cell_type": "markdown",
   "id": "be6a49e2",
   "metadata": {},
   "source": [
    "### Summary of the Solutions to each of the issues\n",
    "* Unoriginal tweets are included :\n",
    "Rows with data in the retweeted_status_user_id column was dropped from the dataframe\n",
    "* Redundant columns in the archieve dataframe:\n",
    "The following columns (in_reply_to_status_id, in_reply_to_user_id, retweeted_status_id ,\n",
    "retweeted_status_timestamp )were dropped using the drop function.\n",
    "* Decimals ratings and tweet more than 1 ratings mentioned were truncated wrongly:\n",
    "The text column was iterated for each row and the ratings pulled using the regex library.\n",
    "Tweets with more than one ratings mention, the later rating was adopted. The regex profile\n",
    "was also able to capture ratings that are decimal and replaced the values in the\n",
    "rating_numerator and rating_denominator columns with the fetched correct values\n",
    "* The source column is not properly formatted:\n",
    "Regex was used to filter the source information for each row and replaced with the wellformatted result\n",
    "* Incorrect datatype for tweet, timestamp columns\n",
    "The tweet_id column on all dataframes were converted to string and the timestamp column\n",
    "converted to datetime datatype\n",
    "* Inconsistent Dog names:\n",
    "All dog names that started in small letters were made None\n",
    "* Incorrect entries at the expanded_url column:\n",
    "The tweet_id was merged with a consistent url to fill up the expanded_url column\n",
    "* Retweet data in tweet_json dataframe:\n",
    "Columns that have True for retweet were dropped\n",
    "* The dog categorizations can be merged into a single column:\n",
    "A new column named dog_stage was created and initialized with None, each row of the\n",
    "column was iterated and based on the values of the doggo, floofer, pupper, puppo columns, a\n",
    "new value is set\n",
    "* Merge the three dataframes\n",
    "All the 3 dataframes were merged on the tweet_id column and rows with null values were\n",
    "dropped"
   ]
  },
  {
   "cell_type": "code",
   "execution_count": null,
   "id": "b8e400c3",
   "metadata": {},
   "outputs": [],
   "source": []
  }
 ],
 "metadata": {
  "kernelspec": {
   "display_name": "Python 3 (ipykernel)",
   "language": "python",
   "name": "python3"
  },
  "language_info": {
   "codemirror_mode": {
    "name": "ipython",
    "version": 3
   },
   "file_extension": ".py",
   "mimetype": "text/x-python",
   "name": "python",
   "nbconvert_exporter": "python",
   "pygments_lexer": "ipython3",
   "version": "3.9.12"
  }
 },
 "nbformat": 4,
 "nbformat_minor": 5
}
